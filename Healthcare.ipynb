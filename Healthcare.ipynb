{
 "cells": [
  {
   "cell_type": "markdown",
   "id": "2e7117eb",
   "metadata": {
    "raw_mimetype": "text/markdown"
   },
   "source": [
    "Importing pandas and settting display options"
   ]
  },
  {
   "cell_type": "code",
   "execution_count": null,
   "id": "5bfc416a",
   "metadata": {},
   "outputs": [],
   "source": [
    "import pandas as pd\n",
    "pd.set_option('display.max_columns', None)\n",
    "pd.set_option('display.max_rows', None)\n",
    "pd.set_option('display.max_colwidth', None)\n",
    "pd.options.display.float_format = '{:,.2f}'.format"
   ]
  },
  {
   "cell_type": "markdown",
   "id": "c07f63ef",
   "metadata": {},
   "source": [
    "Get the dataset"
   ]
  },
  {
   "cell_type": "code",
   "execution_count": null,
   "id": "cdfe0a67",
   "metadata": {},
   "outputs": [],
   "source": [
    "dataset=pd.read_csv('healthcare_edited.csv')\n",
    "dataset.info()"
   ]
  },
  {
   "cell_type": "code",
   "execution_count": null,
   "id": "3aa86e91",
   "metadata": {},
   "outputs": [],
   "source": [
    "dataset.describe()"
   ]
  },
  {
   "cell_type": "code",
   "execution_count": null,
   "id": "c9074e1c",
   "metadata": {},
   "outputs": [],
   "source": [
    "dataset.dtypes"
   ]
  },
  {
   "cell_type": "markdown",
   "id": "6a642cc9",
   "metadata": {},
   "source": [
    "Data cleaning and preparation"
   ]
  },
  {
   "cell_type": "code",
   "execution_count": null,
   "id": "594c2da8",
   "metadata": {},
   "outputs": [],
   "source": [
    "print(dataset.isnull().sum())"
   ]
  },
  {
   "cell_type": "code",
   "execution_count": null,
   "id": "c53828e9",
   "metadata": {},
   "outputs": [],
   "source": [
    "duplicates = dataset[dataset.duplicated()]\n",
    "print(duplicates)"
   ]
  },
  {
   "cell_type": "code",
   "execution_count": null,
   "id": "b479dcfd",
   "metadata": {},
   "outputs": [],
   "source": [
    "dataset['Date of Admission']=pd.to_datetime(dataset['Date of Admission'])\n",
    "dataset['Discharge Date']=pd.to_datetime(dataset['Discharge Date'])\n",
    "dataset.dtypes"
   ]
  },
  {
   "cell_type": "code",
   "execution_count": null,
   "id": "276cab84",
   "metadata": {},
   "outputs": [],
   "source": [
    "dataset.insert(16,'Length of Stay',dataset['Discharge Date']-dataset['Date of Admission'])"
   ]
  },
  {
   "cell_type": "code",
   "execution_count": null,
   "id": "f08ed97c",
   "metadata": {
    "scrolled": true
   },
   "outputs": [],
   "source": [
    "print(dataset[dataset['Billing Amount']<0]) #there are negative billing amount "
   ]
  },
  {
   "cell_type": "code",
   "execution_count": null,
   "id": "770e21ff",
   "metadata": {},
   "outputs": [],
   "source": [
    "dataset['Billing Amount']=dataset['Billing Amount'].abs()"
   ]
  },
  {
   "cell_type": "code",
   "execution_count": null,
   "id": "d26153a6",
   "metadata": {},
   "outputs": [],
   "source": [
    "x=pd.cut(dataset['Age'],bins=[0,19,41,60,100],include_lowest=True,labels=['child','adult','old man','very old'])\n",
    "dataset.insert(17,'age state',x)"
   ]
  },
  {
   "cell_type": "markdown",
   "id": "24fcd28d",
   "metadata": {},
   "source": [
    "Exploratory Data Analysis (EDA)"
   ]
  },
  {
   "cell_type": "code",
   "execution_count": null,
   "id": "c17112ba",
   "metadata": {},
   "outputs": [],
   "source": [
    "dataset['Gender'].value_counts()"
   ]
  },
  {
   "cell_type": "code",
   "execution_count": null,
   "id": "78be1354",
   "metadata": {},
   "outputs": [],
   "source": [
    "dataset['Blood Type'].value_counts()"
   ]
  },
  {
   "cell_type": "code",
   "execution_count": null,
   "id": "a710fae8",
   "metadata": {},
   "outputs": [],
   "source": [
    "dataset['Medical Condition'].value_counts()"
   ]
  },
  {
   "cell_type": "code",
   "execution_count": null,
   "id": "0fe4464f",
   "metadata": {},
   "outputs": [],
   "source": [
    "dataset['Insurance Provider'].value_counts()"
   ]
  },
  {
   "cell_type": "code",
   "execution_count": null,
   "id": "044cced5",
   "metadata": {},
   "outputs": [],
   "source": [
    "dataset['Admission Type'].value_counts()"
   ]
  },
  {
   "cell_type": "code",
   "execution_count": null,
   "id": "8bfbd054",
   "metadata": {},
   "outputs": [],
   "source": [
    "dataset['Test Results'].value_counts()"
   ]
  },
  {
   "cell_type": "code",
   "execution_count": null,
   "id": "9f682296",
   "metadata": {
    "scrolled": true
   },
   "outputs": [],
   "source": [
    "dataset.groupby(['age state','Medical Condition'])['ID'].count().sort_values(ascending=False)"
   ]
  },
  {
   "cell_type": "code",
   "execution_count": null,
   "id": "eb55655d",
   "metadata": {},
   "outputs": [],
   "source": [
    "dataset.groupby(['age state','Medical Condition','Admission Type'])['ID'].count().sort_values(ascending=False)"
   ]
  },
  {
   "cell_type": "code",
   "execution_count": null,
   "id": "68f83890",
   "metadata": {},
   "outputs": [],
   "source": [
    "dataset.groupby(['Medical Condition'])['Billing Amount'].mean()"
   ]
  },
  {
   "cell_type": "code",
   "execution_count": null,
   "id": "683814e8",
   "metadata": {},
   "outputs": [],
   "source": [
    "dataset.groupby(['age state'])['Billing Amount'].mean()"
   ]
  },
  {
   "cell_type": "code",
   "execution_count": null,
   "id": "59ba61cc",
   "metadata": {},
   "outputs": [],
   "source": [
    "dataset.groupby(['Admission Type'])['Billing Amount'].mean()"
   ]
  },
  {
   "cell_type": "code",
   "execution_count": null,
   "id": "eaa495ec",
   "metadata": {},
   "outputs": [],
   "source": [
    "dataset.groupby(['Hospital'])['ID'].count()"
   ]
  },
  {
   "cell_type": "code",
   "execution_count": null,
   "id": "abc4497d",
   "metadata": {},
   "outputs": [],
   "source": [
    "dataset['Hospital_Group'] = dataset['Hospital'].str.extract(r'^([^\\s,-]+)', expand=False)"
   ]
  },
  {
   "cell_type": "code",
   "execution_count": null,
   "id": "0892123d",
   "metadata": {},
   "outputs": [],
   "source": [
    "print( dataset['Hospital_Group'].value_counts().count() ,dataset['Hospital'].value_counts().count())"
   ]
  },
  {
   "cell_type": "code",
   "execution_count": null,
   "id": "65bce77a",
   "metadata": {},
   "outputs": [],
   "source": [
    "dataset.groupby(['Hospital_Group'])['Billing Amount'].mean().sort_values()"
   ]
  },
  {
   "cell_type": "code",
   "execution_count": null,
   "id": "8a245c34",
   "metadata": {},
   "outputs": [],
   "source": [
    "dataset.groupby(['Hospital_Group'])['ID'].count().sort_values(ascending=False)"
   ]
  },
  {
   "cell_type": "code",
   "execution_count": null,
   "id": "8e408f33",
   "metadata": {},
   "outputs": [],
   "source": [
    "dataset.groupby(['Doctor'])['ID'].count().sort_values(ascending=False)"
   ]
  },
  {
   "cell_type": "code",
   "execution_count": null,
   "id": "eee62370",
   "metadata": {},
   "outputs": [],
   "source": [
    "dataset.groupby(['Doctor'])['Billing Amount'].mean().sort_values(ascending=False)"
   ]
  },
  {
   "cell_type": "code",
   "execution_count": null,
   "id": "d371aff0",
   "metadata": {},
   "outputs": [],
   "source": [
    "dataset.groupby(['Medical Condition','Gender'])['ID'].count()"
   ]
  },
  {
   "cell_type": "code",
   "execution_count": null,
   "id": "2ad7d6eb",
   "metadata": {},
   "outputs": [],
   "source": [
    "dataset.groupby(['Medical Condition','Blood Type'])['ID'].count()"
   ]
  },
  {
   "cell_type": "code",
   "execution_count": null,
   "id": "810697d1",
   "metadata": {},
   "outputs": [],
   "source": [
    "dataset['year'] = dataset['Date of Admission'].dt.year\n",
    "dataset.groupby('year')['ID'].count()"
   ]
  },
  {
   "cell_type": "code",
   "execution_count": null,
   "id": "319a0d9b",
   "metadata": {},
   "outputs": [],
   "source": [
    "dataset.groupby('year')['Billing Amount'].sum()"
   ]
  },
  {
   "cell_type": "code",
   "execution_count": null,
   "id": "053b3da8",
   "metadata": {},
   "outputs": [],
   "source": [
    "dataset.groupby(['Blood Type'])['Billing Amount'].mean()"
   ]
  },
  {
   "cell_type": "code",
   "execution_count": null,
   "id": "4fe37792",
   "metadata": {},
   "outputs": [],
   "source": [
    "dataset.groupby(['Test Results'])['Billing Amount'].mean()"
   ]
  },
  {
   "cell_type": "code",
   "execution_count": null,
   "id": "65b3ce67",
   "metadata": {},
   "outputs": [],
   "source": [
    "dataset.groupby('Age Group')['ID'].count().pipe(lambda x: pd.DataFrame({ 'percentage': x / x.sum() * 100}))"
   ]
  },
  {
   "cell_type": "code",
   "execution_count": null,
   "id": "bb7571ad",
   "metadata": {},
   "outputs": [],
   "source": [
    "dataset.groupby('Admission Type')['ID'].count().pipe(lambda x: pd.DataFrame({ 'percentage': x / x.sum() * 100}))"
   ]
  },
  {
   "cell_type": "code",
   "execution_count": null,
   "id": "42ed2739",
   "metadata": {},
   "outputs": [],
   "source": [
    "dataset.groupby(['Medical Condition','age state'])['ID'].count()"
   ]
  },
  {
   "cell_type": "markdown",
   "id": "b0a991dc",
   "metadata": {},
   "source": [
    "Data Visualization"
   ]
  },
  {
   "cell_type": "code",
   "execution_count": null,
   "id": "ef5cd08f",
   "metadata": {},
   "outputs": [],
   "source": [
    "import seaborn as sns\n",
    "import matplotlib.pyplot as plt"
   ]
  },
  {
   "cell_type": "code",
   "execution_count": null,
   "id": "fa993cb9",
   "metadata": {},
   "outputs": [],
   "source": [
    "sns.histplot(dataset,x='age state')\n",
    "plt.title('distribution of age')\n",
    "plt.show()"
   ]
  },
  {
   "cell_type": "code",
   "execution_count": null,
   "id": "9899b8f7",
   "metadata": {},
   "outputs": [],
   "source": [
    "sns.countplot(data=dataset,x='Admission Type')\n",
    "plt.title(\"distribution of Admission Type\")\n",
    "plt.show()"
   ]
  },
  {
   "cell_type": "code",
   "execution_count": null,
   "id": "c8d293e2",
   "metadata": {
    "scrolled": true
   },
   "outputs": [],
   "source": [
    "sns.countplot(data=dataset,x='Medical Condition',hue='age state')\n",
    "plt.title(\"relationship between age and medical condition\")\n",
    "plt.show()"
   ]
  },
  {
   "cell_type": "code",
   "execution_count": null,
   "id": "5c02ad3e",
   "metadata": {},
   "outputs": [],
   "source": [
    "sns.boxplot(data=dataset,x='Age',y='Medical Condition')\n",
    "plt.title(\"distribution of Patient age by medical condition\")\n",
    "plt.show()"
   ]
  },
  {
   "cell_type": "code",
   "execution_count": null,
   "id": "f45d0942",
   "metadata": {},
   "outputs": [],
   "source": [
    "dataset.to_csv('healthcare_edited.csv',index=False)"
   ]
  }
 ],
 "metadata": {
  "celltoolbar": "Raw Cell Format",
  "kernelspec": {
   "display_name": "Python 3 (ipykernel)",
   "language": "python",
   "name": "python3"
  },
  "language_info": {
   "codemirror_mode": {
    "name": "ipython",
    "version": 3
   },
   "file_extension": ".py",
   "mimetype": "text/x-python",
   "name": "python",
   "nbconvert_exporter": "python",
   "pygments_lexer": "ipython3",
   "version": "3.11.5"
  }
 },
 "nbformat": 4,
 "nbformat_minor": 5
}
